{
 "cells": [
  {
   "cell_type": "markdown",
   "metadata": {},
   "source": [
    "Visualize pretrained graph embeddings"
   ]
  },
  {
   "cell_type": "code",
   "execution_count": 1,
   "metadata": {},
   "outputs": [],
   "source": [
    "import pickle\n",
    "import matplotlib.pyplot as plt\n",
    "import matplotlib.cm as cm\n",
    "import networkx as nx\n",
    "import numpy as np\n",
    "import torch\n",
    "from sklearn.metrics.pairwise import cosine_similarity\n",
    "from torch_geometric.data import Data, DataLoader, DenseDataLoader as DenseLoader\n",
    "from torch_geometric.data import InMemoryDataset\n",
    "import torch_geometric.transforms as T\n",
    "from diff_pool6_max import DiffPool as DiffPool\n",
    "from scipy.spatial.distance import pdist"
   ]
  },
  {
   "cell_type": "code",
   "execution_count": 2,
   "metadata": {},
   "outputs": [],
   "source": [
    "\"\"\"\n",
    "load dataset \n",
    "\"\"\"\n",
    "\n",
    "with open(r'./data/patient_gumbel4.pickle', 'rb') as handle:\n",
    "    patient_dict = pickle.load(handle)\n",
    "        \n",
    "class PatientDataset(InMemoryDataset):\n",
    "    def __init__(self, root, transform=None, pre_transform=None):\n",
    "        super(PatientDataset, self).__init__(root, transform, pre_transform)\n",
    "        self.data, self.slices = torch.load(self.processed_paths[0])\n",
    "\n",
    "    @property\n",
    "    def raw_file_names(self):\n",
    "        return []\n",
    "    @property\n",
    "    def processed_file_names(self):\n",
    "        return ['patient.dataset']\n",
    "\n",
    "    def download(self):\n",
    "        pass\n",
    "    \n",
    "    def process(self):\n",
    "        \n",
    "        data_list = []\n",
    "        node_labels_dict = {'CD3p': 0, 'CD3p_CD4p': 1, 'CD8p_CD3p': 2, 'Tumor': 3, 'Stroma': 4}\n",
    "        class_num = len(node_labels_dict)\n",
    "        \n",
    "        for idx, v in enumerate(patient_dict.values()):\n",
    "            for G in v:\n",
    "                node_features = torch.LongTensor([node_labels_dict[i] for i in \n",
    "                                list(nx.get_node_attributes(G, 'cell_types').values())]).unsqueeze(1)\n",
    "                x = torch.zeros(len(G.nodes), class_num).scatter_(1, node_features, 1)\n",
    "                y = torch.LongTensor([idx])\n",
    "                edges = sorted([e for e in G.edges] + [e[::-1] for e in G.edges])\n",
    "                edge_index = torch.tensor([[e[0] for e in edges],\n",
    "                                           [e[1] for e in edges]], dtype=torch.long)\n",
    "                data = Data(x=x, edge_index=edge_index, y=y)\n",
    "                data_list.append(data)\n",
    "        \n",
    "        data, slices = self.collate(data_list)\n",
    "        torch.save((data, slices), self.processed_paths[0])\n",
    "        \n",
    "def get_dataset(path, sparse=False):\n",
    "    \n",
    "    dataset = PatientDataset(path)\n",
    "    if not sparse:\n",
    "        max_num_nodes = 0\n",
    "        for data in dataset:\n",
    "            max_num_nodes = max(data.num_nodes, max_num_nodes)\n",
    "\n",
    "        if dataset.transform is None:\n",
    "            dataset.transform = T.ToDense(max_num_nodes)\n",
    "        else:\n",
    "            dataset.transform = T.Compose(\n",
    "                [dataset.transform, T.ToDense(max_num_nodes)])\n",
    "\n",
    "    return dataset\n",
    "\n",
    "dataset_dict = {}\n",
    "path = './data/patient_gumbel4'\n",
    "dataset_dict['gumbel2_5'] = get_dataset(path, sparse=False)"
   ]
  },
  {
   "cell_type": "code",
   "execution_count": 3,
   "metadata": {},
   "outputs": [],
   "source": [
    "# save on gpu, load on cpu\n",
    "# load model parameters \n",
    "def load_model(dir_path, params_name, m, num_patches=5, ratio=0.05, dropout=False, plot=True, ge=False):\n",
    "    device = torch.device('cpu')\n",
    "    model = m(dataset_dict['gumbel2_5'], 5, 64, num_patches=num_patches, ratio=ratio, dropout=dropout, plot=plot, ge=ge)\n",
    "    params = torch.load(dir_path+params_name, map_location=device)\n",
    "    model.load_state_dict(params)\n",
    "    return model\n",
    "\n",
    "# generate graph embeddings\n",
    "def generate_graph_embedding(model, loader):\n",
    "    model.eval()\n",
    "    \n",
    "    output = []\n",
    "    for data in data_loader:\n",
    "        data = data.to(device)\n",
    "        with torch.no_grad():\n",
    "            out = model(data)\n",
    "            output.append(out.numpy())\n",
    "    output = np.concatenate(output)\n",
    "    \n",
    "    return output"
   ]
  },
  {
   "cell_type": "code",
   "execution_count": 4,
   "metadata": {},
   "outputs": [],
   "source": [
    "# data loader\n",
    "batch_size = 50\n",
    "data_loader = DenseLoader(dataset_dict['gumbel2_5'], batch_size, shuffle=False)\n"
   ]
  },
  {
   "cell_type": "code",
   "execution_count": 5,
   "metadata": {},
   "outputs": [],
   "source": [
    "device = torch.device('cuda' if torch.cuda.is_available() else 'cpu')\n",
    "\n",
    "dir_path = './data/DiffPool_diff_pool6_max_bs50/gumbel2_5/'\n",
    "params_name = 'params_epoch140.pt'\n",
    "model = load_model(dir_path, params_name, DiffPool, ratio=0.05, \\\n",
    "                   plot=False, ge=True)\n",
    "output = generate_graph_embedding(model, data_loader)"
   ]
  },
  {
   "cell_type": "code",
   "execution_count": 6,
   "metadata": {
    "scrolled": false
   },
   "outputs": [
    {
     "data": {
      "image/png": "[encoded data removed]",
      "text/plain": [
       "<Figure size 720x720 with 2 Axes>"
      ]
     },
     "metadata": {
      "needs_background": "light"
     },
     "output_type": "display_data"
    }
   ],
   "source": [
    "fig = plt.figure(figsize=(10, 10))\n",
    "cosine_matrix = cosine_similarity(output)\n",
    "plt.imshow(cosine_matrix, cmap=cm.Blues, extent=[0, 50, 50, 0])\n",
    "plt.xticks([i for i in range(5, 51, 5)])\n",
    "plt.yticks([i for i in range(5, 51, 5)])\n",
    "plt.xlabel('graph id', fontsize=16)\n",
    "plt.ylabel('graph id', fontsize=16)\n",
    "plt.colorbar()\n",
    "plt.show()"
   ]
  },
  {
   "cell_type": "code",
   "execution_count": 7,
   "metadata": {},
   "outputs": [
    {
     "name": "stdout",
     "output_type": "stream",
     "text": [
      "Average distance of all graphs: 12.040071417797236\n",
      "Average distance of distinctive graphs: 14.679801309642942\n",
      "Average distance of similar graphs: 2.290810291242748\n",
      "\n"
     ]
    }
   ],
   "source": [
    "f1_x = lambda x: x*5+3\n",
    "f2_x = lambda x: x*5+4\n",
    "keep_indices = [f(i) for i in range(10) for f in (f1_x, f2_x)]\n",
    "discard_indices = list(set([i for i in range(50)]) - set(keep_indices)) \n",
    "print('Average distance of all graphs: {}\\n' \\\n",
    "      'Average distance of distinctive graphs: {}\\n' \\\n",
    "      'Average distance of similar graphs: {}\\n'.format(pdist(output).mean(), \\\n",
    "                                                        pdist(output[keep_indices]).mean(), \\\n",
    "                                                        pdist(output[discard_indices]).mean()))"
   ]
  }
 ],
 "metadata": {
  "kernelspec": {
   "display_name": "Python (geodeep)",
   "language": "python",
   "name": "geodeep"
  },
  "language_info": {
   "codemirror_mode": {
    "name": "ipython",
    "version": 3
   },
   "file_extension": ".py",
   "mimetype": "text/x-python",
   "name": "python",
   "nbconvert_exporter": "python",
   "pygments_lexer": "ipython3",
   "version": "3.6.10"
  },
  "varInspector": {
   "cols": {
    "lenName": 16,
    "lenType": 16,
    "lenVar": 40
   },
   "kernels_config": {
    "python": {
     "delete_cmd_postfix": "",
     "delete_cmd_prefix": "del ",
     "library": "var_list.py",
     "varRefreshCmd": "print(var_dic_list())"
    },
    "r": {
     "delete_cmd_postfix": ") ",
     "delete_cmd_prefix": "rm(",
     "library": "var_list.r",
     "varRefreshCmd": "cat(var_dic_list()) "
    }
   },
   "types_to_exclude": [
    "module",
    "function",
    "builtin_function_or_method",
    "instance",
    "_Feature"
   ],
   "window_display": false
  }
 },
 "nbformat": 4,
 "nbformat_minor": 2
}
