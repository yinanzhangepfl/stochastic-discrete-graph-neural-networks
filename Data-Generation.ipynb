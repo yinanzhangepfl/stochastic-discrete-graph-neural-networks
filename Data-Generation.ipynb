{
 "cells": [
  {
   "cell_type": "code",
   "execution_count": 1,
   "metadata": {},
   "outputs": [],
   "source": [
    "import random\n",
    "import collections\n",
    "import math\n",
    "\n",
    "from scipy.sparse import coo_matrix\n",
    "import pandas as pd\n",
    "import matplotlib.pyplot as plt\n",
    "\n",
    "\n",
    "import networkx as nx\n",
    "from sklearn.neighbors import NearestNeighbors\n",
    "\n",
    "import pickle\n",
    "import ipywidgets as widgets\n",
    "from ipywidgets import interact, fixed"
   ]
  },
  {
   "cell_type": "code",
   "execution_count": 2,
   "metadata": {},
   "outputs": [],
   "source": [
    "def create_df(tumorList, stromaList, TILList1, TILList2, TILList3, \\\n",
    "              numtumor=100, numstroma=100, numTIL1=10, numTIL2=20, numTIL3=20):\n",
    "    df = pd.DataFrame(columns=['x', 'y', 'label'])\n",
    "    pos= [] \n",
    "    x = []\n",
    "    y = []\n",
    "    label = []\n",
    "    tumor = random.sample(tumorList, numtumor)\n",
    "    stroma = random.sample(stromaList, numstroma)\n",
    "    TIL1 = random.sample(set(TILList1) - set(tumor) - set(stroma), numTIL1)\n",
    "    TIL2 = random.sample(set(TILList2) - set(tumor) - set(stroma) - set(TIL1), numTIL2)\n",
    "    TIL3 = random.sample(set(TILList3) - set(tumor) - set(stroma)- set(TIL1) - set(TIL2), numTIL3)\n",
    "    \n",
    "    loop1 = []\n",
    "    loop2 = []\n",
    "    for i,j in zip([tumor, stroma, TIL1, TIL2, TIL3], ['Tumor', 'Stroma', 'CD3p', 'CD3p_CD4p', 'CD8p_CD3p']):\n",
    "        if i:\n",
    "            loop1.append(i)\n",
    "            loop2.append(j)\n",
    "\n",
    "    for l, labelName in zip(loop1, loop2):\n",
    "        pos.extend(l)\n",
    "        for idx, content in enumerate(zip(*l)):\n",
    "            [x, y][idx].extend(content)\n",
    "        label.extend([labelName for i in range(len(content))])\n",
    "    df['x'] = x\n",
    "    df['y'] = y\n",
    "    df['label'] = label\n",
    "    return df, pos\n",
    "\n",
    "\n",
    "def create_graph(df, pos):\n",
    "    dfXY = df[['x', 'y']].copy()\n",
    "    N = len(dfXY)\n",
    "    nn = NearestNeighbors(radius=10)\n",
    "    nn.fit(dfXY)\n",
    "    dists, ids = nn.radius_neighbors(dfXY)\n",
    "    dists_ = [j for i in dists for j in i]\n",
    "    ids_ = [j for i in ids for j in i]\n",
    "    # generate row indices\n",
    "    rows = [i for i, j in enumerate(ids) for k in j]\n",
    "    # number of edges\n",
    "    M = len(rows)\n",
    "    w = np.ones(M)\n",
    "    # complete matrix according to positions\n",
    "    _W = coo_matrix((w, (rows, ids_)), shape=(N, N))\n",
    "    coo_matrix.setdiag(_W, 0)\n",
    "    _W = 1/2*(_W + _W.T)\n",
    "    # create networkx graph\n",
    "    G = nx.from_scipy_sparse_matrix(_W)\n",
    "    for i in range(len(G.nodes)):\n",
    "        G.nodes[i]['pos'] = pos[i]\n",
    "        G.nodes[i]['cell_types'] = df['label'][i]\n",
    "    return G\n",
    "    "
   ]
  },
  {
   "cell_type": "code",
   "execution_count": 3,
   "metadata": {},
   "outputs": [],
   "source": [
    "patientKeys = [('{:0>4d}'.format(i+1)) for i in range(10)]\n",
    "patientDict = collections.defaultdict(list)\n",
    "tumorList = [(x+1,y+1) for x in range(0, 50) for y in range(0, 100)]\n",
    "stromaList = [(x+1,y+1) for x in range(50, 100) for y in range(0, 100)]\n",
    "\n",
    "def add_data(id_, range_, nums=[100, 100, 10, 20, 20], count=1):\n",
    "    TILList1 = [(x+1,y+1) for x in range(range_[0][0], range_[0][1]) for y in range(range_[0][2], range_[0][3])]\n",
    "    TILList2 = [(x+1,y+1) for x in range(range_[1][0], range_[1][1]) for y in range(range_[1][2], range_[1][3])]\n",
    "    TILList3 = [(x+1,y+1) for x in range(range_[2][0], range_[2][1]) for y in range(range_[2][2], range_[2][3])]\n",
    "    for j in range(count):\n",
    "        df, pos = create_df(tumorList, stromaList, TILList1, TILList2, TILList3, \\\n",
    "                            numtumor=nums[0], numstroma=nums[1], numTIL1=nums[2], numTIL2=nums[3], numTIL3=nums[4])\n",
    "        G = create_graph(df, pos)\n",
    "        patientDict[id_].append(G)"
   ]
  },
  {
   "cell_type": "markdown",
   "metadata": {},
   "source": [
    "# Data creation"
   ]
  },
  {
   "cell_type": "markdown",
   "metadata": {},
   "source": [
    "## dataset A"
   ]
  },
  {
   "cell_type": "code",
   "execution_count": 4,
   "metadata": {},
   "outputs": [],
   "source": [
    "# add similar graphs\n",
    "# for i in patientKeys:\n",
    "#     add_data(i, [[0, 0, 0, 0], [0, 100, 0, 100], [0, 0, 0, 0]], nums=[100, 100, 0, 50, 0], count=4)\n",
    "    \n",
    "# add discriminative graphs\n",
    "# add_data('0001', [[50, 100, 0, 100], [50, 100, 0, 100], [50, 100, 0, 100]])\n",
    "# add_data('0002', [[0, 50, 0, 100], [50, 100, 0, 100], [50, 100, 0, 100]])\n",
    "# add_data('0003', [[50, 100, 0, 100], [0, 50, 0, 100], [50, 100, 0, 100]])\n",
    "# add_data('0004', [[50, 100, 0, 100], [50, 100, 0, 100], [0, 50, 0, 100]])\n",
    "# add_data('0005', [[0, 50, 0, 100], [0, 50, 0, 100], [50, 100, 0, 100]])\n",
    "# add_data('0006', [[0, 50, 0, 100], [50, 100, 0, 100], [0, 50, 0, 100]])\n",
    "# add_data('0007', [[50, 100, 0, 100], [0, 50, 0, 100], [0, 50, 0, 100]])\n",
    "# add_data('0008', [[0, 50, 0, 100], [0, 50, 0, 100], [0, 50, 0, 100]])\n",
    "# add_data('0009', [[0, 0, 0, 0], [0, 50, 0, 100], [50, 100, 0, 100]], [105, 105, 0, 20, 20])\n",
    "# add_data('0010', [[0, 0, 0, 0], [50, 100, 0, 100], [0, 50, 0, 100]], [105, 105, 0, 20, 20])"
   ]
  },
  {
   "cell_type": "markdown",
   "metadata": {},
   "source": [
    "## dataset B"
   ]
  },
  {
   "cell_type": "code",
   "execution_count": 5,
   "metadata": {},
   "outputs": [],
   "source": [
    "# add similar graphs\n",
    "for i in patientKeys:\n",
    "    add_data(i, [[0, 0, 0, 0], [0, 100, 0, 100], [0, 0, 0, 0]], nums=[100, 100, 0, 50, 0], count=3)\n",
    "    \n",
    "# add discriminative graphs\n",
    "add_data('0001', [[50, 100, 0, 100], [50, 100, 0, 100], [50, 100, 0, 100]])\n",
    "add_data('0001', [[0, 50, 0, 100], [50, 100, 0, 100], [50, 100, 0, 100]])\n",
    "\n",
    "add_data('0002', [[50, 100, 0, 100], [50, 100, 0, 100], [50, 100, 0, 100]])\n",
    "add_data('0002', [[50, 100, 0, 100], [0, 50, 0, 100], [50, 100, 0, 100]])\n",
    "\n",
    "add_data('0003', [[50, 100, 0, 100], [50, 100, 0, 100], [50, 100, 0, 100]])\n",
    "add_data('0003', [[50, 100, 0, 100], [50, 100, 0, 100], [0, 50, 0, 100]])\n",
    "\n",
    "add_data('0004', [[50, 100, 0, 100], [50, 100, 0, 100], [50, 100, 0, 100]])\n",
    "add_data('0004', [[0, 50, 0, 100], [0, 50, 0, 100], [50, 100, 0, 100]])\n",
    "\n",
    "add_data('0005', [[0, 50, 0, 100], [50, 100, 0, 100], [50, 100, 0, 100]])\n",
    "add_data('0005', [[50, 100, 0, 100], [0, 50, 0, 100], [50, 100, 0, 100]])\n",
    "\n",
    "add_data('0006', [[0, 50, 0, 100], [50, 100, 0, 100], [50, 100, 0, 100]])\n",
    "add_data('0006', [[50, 100, 0, 100], [50, 100, 0, 100], [0, 50, 0, 100]])\n",
    "\n",
    "add_data('0007', [[0, 50, 0, 100], [50, 100, 0, 100], [50, 100, 0, 100]])\n",
    "add_data('0007', [[0, 50, 0, 100], [0, 50, 0, 100], [50, 100, 0, 100]])\n",
    "\n",
    "add_data('0008', [[50, 100, 0, 100], [0, 50, 0, 100], [50, 100, 0, 100]])\n",
    "add_data('0008', [[50, 100, 0, 100], [50, 100, 0, 100], [0, 50, 0, 100]])\n",
    "\n",
    "add_data('0009', [[50, 100, 0, 100], [0, 50, 0, 100], [50, 100, 0, 100]])\n",
    "add_data('0009', [[0, 50, 0, 100], [0, 50, 0, 100], [50, 100, 0, 100]])\n",
    "\n",
    "add_data('0010', [[50, 100, 0, 100], [50, 100, 0, 100], [0, 50, 0, 100]])\n",
    "add_data('0010', [[0, 50, 0, 100], [0, 50, 0, 100], [50, 100, 0, 100]])"
   ]
  },
  {
   "cell_type": "markdown",
   "metadata": {},
   "source": [
    "# Visualization"
   ]
  },
  {
   "cell_type": "code",
   "execution_count": 6,
   "metadata": {
    "scrolled": false
   },
   "outputs": [
    {
     "data": {
      "application/vnd.jupyter.widget-view+json": {
       "model_id": "ef050d0ca67f40c2b35b288dcb3e6914",
       "version_major": 2,
       "version_minor": 0
      },
      "text/plain": [
       "interactive(children=(Dropdown(description='Patient ID: ', options=('0001', '0002', '0003', '0004', '0005', '0…"
      ]
     },
     "metadata": {},
     "output_type": "display_data"
    }
   ],
   "source": [
    "# Create widgets\n",
    "id_ = \\\n",
    "widgets.Dropdown(\n",
    "    options = patientDict.keys(),\n",
    "    description='Patient ID: '\n",
    ")\n",
    "graphs  = widgets.IntSlider(\n",
    "              min=0,\n",
    "              max=len(patientDict[id_.value])-1,\n",
    "              step=1,\n",
    "              description='Graph Index: ',\n",
    "              orientation='horizontal',\n",
    "              continuous_update = False\n",
    ")\n",
    "\n",
    "# Update graph options based on patient id\n",
    "def update_graphs(*args):\n",
    "    graphs.max = len(patientDict[id_.value])-1\n",
    "# Tie graph options to patient id\n",
    "id_.observe(update_graphs, 'value')\n",
    "\n",
    "nodeColorsDict = {'CD3p': 'b', 'CD3p_CD4p': 'g', 'CD8p_CD3p': 'r', 'Tumor': 'c', 'Stroma': 'y'}\n",
    "def graph_visualization(id_, graphs):\n",
    "    plt.figure(figsize = (5, 5))\n",
    "    G = patientDict[id_][graphs]\n",
    "    posDict = nx.get_node_attributes(G, 'pos')\n",
    "    for label in nodeColorsDict:\n",
    "        plt.plot([0], [0], color=nodeColorsDict[label], label=label)\n",
    "    nodeColorList = [nodeColorsDict[i] for i in list(nx.get_node_attributes(G, 'cell_types').values())]\n",
    "    nx.draw_networkx(G, pos=posDict, with_labels=False, node_size=30, node_color=nodeColorList)\n",
    "    plt.legend(loc='center left', bbox_to_anchor=(1, 0.5))\n",
    "    plt.show()\n",
    "\n",
    "_ = interact(graph_visualization, id_=id_, graphs=graphs)\n",
    "    "
   ]
  },
  {
   "cell_type": "markdown",
   "metadata": {},
   "source": [
    "# Save data"
   ]
  },
  {
   "cell_type": "code",
   "execution_count": 10,
   "metadata": {
    "scrolled": true
   },
   "outputs": [],
   "source": [
    "# if not os.path.exists(r'./data/patient_gumbel4_val.pickle'):\n",
    "#     with open(r'./data/patient_gumbel4_val.pickle', 'wb') as handle:\n",
    "#         pickle.dump(patientDict, handle, protocol=pickle.HIGHEST_PROTOCOL)\n"
   ]
  }
 ],
 "metadata": {
  "kernelspec": {
   "display_name": "Python (geodeep)",
   "language": "python",
   "name": "geodeep"
  },
  "language_info": {
   "codemirror_mode": {
    "name": "ipython",
    "version": 3
   },
   "file_extension": ".py",
   "mimetype": "text/x-python",
   "name": "python",
   "nbconvert_exporter": "python",
   "pygments_lexer": "ipython3",
   "version": "3.6.10"
  },
  "varInspector": {
   "cols": {
    "lenName": 16,
    "lenType": 16,
    "lenVar": 40
   },
   "kernels_config": {
    "python": {
     "delete_cmd_postfix": "",
     "delete_cmd_prefix": "del ",
     "library": "var_list.py",
     "varRefreshCmd": "print(var_dic_list())"
    },
    "r": {
     "delete_cmd_postfix": ") ",
     "delete_cmd_prefix": "rm(",
     "library": "var_list.r",
     "varRefreshCmd": "cat(var_dic_list()) "
    }
   },
   "types_to_exclude": [
    "module",
    "function",
    "builtin_function_or_method",
    "instance",
    "_Feature"
   ],
   "window_display": false
  }
 },
 "nbformat": 4,
 "nbformat_minor": 2
}
